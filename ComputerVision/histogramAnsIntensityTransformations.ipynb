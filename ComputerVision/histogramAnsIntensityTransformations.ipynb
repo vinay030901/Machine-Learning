{
 "cells": [
  {
   "cell_type": "code",
   "execution_count": 1,
   "source": [
    "import matplotlib.pyplot as plt\r\n",
    "import numpy as np\r\n",
    "import cv2"
   ],
   "outputs": [],
   "metadata": {}
  },
  {
   "cell_type": "code",
   "execution_count": 2,
   "source": [
    "def plot_image(image_1,image_2,title_1=\"Original\",title_2=\"New Image\"):\r\n",
    "    plt.figure(figsize=(10,10))\r\n",
    "    plt.subplot(1,2,1)\r\n",
    "    plt.imshow(image_1,cmap='gray')\r\n",
    "    plt.title(title_1)\r\n",
    "    plt.figure(figsize=(10,10))\r\n",
    "    plt.subplot(1,2,2)\r\n",
    "    plt.imshow(image_2,cmap='gray')\r\n",
    "    plt.title(title_2)\r\n",
    "    plt.show()"
   ],
   "outputs": [],
   "metadata": {}
  },
  {
   "cell_type": "markdown",
   "source": [
    "the next function will plot two histogram side by side"
   ],
   "metadata": {}
  },
  {
   "cell_type": "code",
   "execution_count": 4,
   "source": [
    "def plot_hist(old_image, new_image,title_1=\"Original\",title_2=\"New Image\"):\r\n",
    "    intensityValues=np.array([x for x in range(255)])\r\n",
    "    plt.subplot(1,2,1)\r\n",
    "    plt.bar(intensityValues,cv2.calcHist([old_image],[0],None,[255],[0,255])[:0],width=5)\r\n",
    "    plt.title(title_1)\r\n",
    "    plt.xlabel('intensity')\r\n",
    "    plt.subplot(1, 2, 2)\r\n",
    "    plt.bar(intensityValues, cv2.calcHist([new_image],[0],None,[256],[0,256])[:,0],width = 5)\r\n",
    "    plt.title(title_2)\r\n",
    "    plt.xlabel('intensity')\r\n",
    "    plt.show()"
   ],
   "outputs": [],
   "metadata": {}
  },
  {
   "cell_type": "markdown",
   "source": [
    "A histogram counts the number of occurrences of the intensity values of pixels, and it's a useful tool for understanding and manipulating images. We use cv.calcHist() to generate the histogram. Here are the parameter values:\r\n",
    "\r\n",
    "cv2.calcHist(CV array:[image] this is the image channel:[0],for this course it will always be [None],the number of bins:[L],the range of index of bins:[0,L-1]) "
   ],
   "metadata": {}
  },
  {
   "cell_type": "markdown",
   "source": [
    "Toy Example\r\n",
    "Consider the toy array with intensity values ranging from 0 to 2. We can create a histogram. Its first element is the number of zeros in the image (in this case, 1); its second element is the number of ones in the image (in this case, 5), and so on."
   ],
   "metadata": {}
  },
  {
   "cell_type": "code",
   "execution_count": 5,
   "source": [
    "toy_image=np.array([[0,2,2],[1,1,1],[1,2,2]],dtype=np.uint8)\r\n",
    "plt.imshow(toy_image,cmap='gray')\r\n",
    "plt.show()\r\n",
    "print(\"toy image: \",toy_image)"
   ],
   "outputs": [
    {
     "output_type": "display_data",
     "data": {
      "image/png": "[encoded data removed]",
      "text/plain": [
       "<Figure size 432x288 with 1 Axes>"
      ]
     },
     "metadata": {
      "needs_background": "light"
     }
    },
    {
     "output_type": "stream",
     "name": "stdout",
     "text": [
      "toy image:  [[0 2 2]\n",
      " [1 1 1]\n",
      " [1 2 2]]\n"
     ]
    }
   ],
   "metadata": {}
  },
  {
   "cell_type": "markdown",
   "source": [
    "We can use the caclHist function, in this case, we use only three bins as there are only three values, and the index of the bins are from 1 to 3."
   ],
   "metadata": {}
  },
  {
   "cell_type": "code",
   "execution_count": 6,
   "source": [
    "plt.bar([x for x in range(6)],[1,5,2,0,0,0])\r\n",
    "plt.show()"
   ],
   "outputs": [
    {
     "output_type": "display_data",
     "data": {
      "image/png": "[encoded data removed]",
      "text/plain": [
       "<Figure size 432x288 with 1 Axes>"
      ]
     },
     "metadata": {
      "needs_background": "light"
     }
    }
   ],
   "metadata": {}
  },
  {
   "cell_type": "code",
   "execution_count": null,
   "source": [],
   "outputs": [],
   "metadata": {}
  }
 ],
 "metadata": {
  "orig_nbformat": 4,
  "language_info": {
   "name": "python",
   "version": "3.8.6",
   "mimetype": "text/x-python",
   "codemirror_mode": {
    "name": "ipython",
    "version": 3
   },
   "pygments_lexer": "ipython3",
   "nbconvert_exporter": "python",
   "file_extension": ".py"
  },
  "kernelspec": {
   "name": "python3",
   "display_name": "Python 3.8.6 64-bit"
  },
  "interpreter": {
   "hash": "0e091db8d58018cc79bd95d4c344ae6fb50dc1dda4747c0206fad4c7e07cd6fa"
  }
 },
 "nbformat": 4,
 "nbformat_minor": 2
}