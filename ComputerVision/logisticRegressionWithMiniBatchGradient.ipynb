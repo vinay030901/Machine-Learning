{
 "cells": [
  {
   "cell_type": "code",
   "execution_count": 6,
   "source": [
    "import numpy as np\r\n",
    "import matplotlib.pyplot as plt\r\n",
    "from mpl_toolkits import mplot3d\r\n",
    "import torch\r\n",
    "#used to create dataset and create mini batch\r\n",
    "from torch.utils.data import Dataset, DataLoader\r\n",
    "# pytorch neural network\r\n",
    "import torch.nn as nn"
   ],
   "outputs": [],
   "metadata": {}
  },
  {
   "cell_type": "code",
   "execution_count": 8,
   "source": [
    "import tensorflow as tf"
   ],
   "outputs": [],
   "metadata": {}
  },
  {
   "cell_type": "code",
   "execution_count": 9,
   "source": [
    "# Create class for plotting and the function for plotting\r\n",
    "\r\n",
    "class plot_error_surfaces(object):\r\n",
    "    \r\n",
    "    # Construstor\r\n",
    "    def __init__(self, w_range, b_range, X, Y, n_samples = 30, go = True):\r\n",
    "        W = np.linspace(-w_range, w_range, n_samples)\r\n",
    "        B = np.linspace(-b_range, b_range, n_samples)\r\n",
    "        w, b = np.meshgrid(W, B)    \r\n",
    "        Z = np.zeros((30, 30))\r\n",
    "        count1 = 0\r\n",
    "        self.y = Y.numpy()\r\n",
    "        self.x = X.numpy()\r\n",
    "        for w1, b1 in zip(w, b):\r\n",
    "            count2 = 0\r\n",
    "            for w2, b2 in zip(w1, b1):\r\n",
    "                yhat= 1 / (1 + np.exp(-1*(w2*self.x+b2)))\r\n",
    "                Z[count1,count2]=-1*np.mean(self.y*np.log(yhat+1e-16) +(1-self.y)*np.log(1-yhat+1e-16))\r\n",
    "                count2 += 1   \r\n",
    "            count1 += 1\r\n",
    "        self.Z = Z\r\n",
    "        self.w = w\r\n",
    "        self.b = b\r\n",
    "        self.W = []\r\n",
    "        self.B = []\r\n",
    "        self.LOSS = []\r\n",
    "        self.n = 0\r\n",
    "        if go == True:\r\n",
    "            plt.figure()\r\n",
    "            plt.figure(figsize=(7.5, 5))\r\n",
    "            plt.axes(projection='3d').plot_surface(self.w, self.b, self.Z, rstride=1, cstride=1, cmap='viridis', edgecolor='none')\r\n",
    "            plt.title('Loss Surface')\r\n",
    "            plt.xlabel('w')\r\n",
    "            plt.ylabel('b')\r\n",
    "            plt.show()\r\n",
    "            plt.figure()\r\n",
    "            plt.title('Loss Surface Contour')\r\n",
    "            plt.xlabel('w')\r\n",
    "            plt.ylabel('b')\r\n",
    "            plt.contour(self.w, self.b, self.Z)\r\n",
    "            plt.show()\r\n",
    "            \r\n",
    "     # Setter\r\n",
    "    def set_para_loss(self, model, loss):\r\n",
    "        self.n = self.n + 1\r\n",
    "        self.W.append(list(model.parameters())[0].item())\r\n",
    "        self.B.append(list(model.parameters())[1].item())\r\n",
    "        self.LOSS.append(loss)\r\n",
    "    \r\n",
    "    # Plot diagram\r\n",
    "    def final_plot(self): \r\n",
    "        ax = plt.axes(projection='3d')\r\n",
    "        ax.plot_wireframe(self.w, self.b, self.Z)\r\n",
    "        ax.scatter(self.W, self.B, self.LOSS, c='r', marker='x', s=200, alpha=1)\r\n",
    "        plt.figure()\r\n",
    "        plt.contour(self.w, self.b, self.Z)\r\n",
    "        plt.scatter(self.W, self.B, c='r', marker='x')\r\n",
    "        plt.xlabel('w')\r\n",
    "        plt.ylabel('b')\r\n",
    "        plt.show()\r\n",
    "        \r\n",
    "    # Plot diagram\r\n",
    "    def plot_ps(self):\r\n",
    "        plt.subplot(121)\r\n",
    "        plt.ylim\r\n",
    "        plt.plot(self.x[self.y==0], self.y[self.y==0], 'ro', label=\"training points\")\r\n",
    "        plt.plot(self.x[self.y==1], self.y[self.y==1]-1, 'o', label=\"training points\")\r\n",
    "        plt.plot(self.x, self.W[-1] * self.x + self.B[-1], label=\"estimated line\")\r\n",
    "        plt.xlabel('x')\r\n",
    "        plt.ylabel('y')\r\n",
    "        plt.ylim((-0.1, 2))\r\n",
    "        plt.title('Data Space Iteration: ' + str(self.n))\r\n",
    "        plt.show()\r\n",
    "        plt.subplot(122)\r\n",
    "        plt.contour(self.w, self.b, self.Z)\r\n",
    "        plt.scatter(self.W, self.B, c='r', marker='x')\r\n",
    "        plt.title('Loss Surface Contour Iteration' + str(self.n))\r\n",
    "        plt.xlabel('w')\r\n",
    "        plt.ylabel('b')\r\n",
    "        \r\n",
    "# Plot the diagram\r\n",
    "\r\n",
    "def PlotStuff(X, Y, model, epoch, leg=True):\r\n",
    "    \r\n",
    "    plt.plot(X.numpy(), model(X).detach().numpy(), label=('epoch ' + str(epoch)))\r\n",
    "    plt.plot(X.numpy(), Y.numpy(), 'r')\r\n",
    "    if leg == True:\r\n",
    "        plt.legend()\r\n",
    "    else:\r\n",
    "        pass"
   ],
   "outputs": [],
   "metadata": {}
  },
  {
   "cell_type": "code",
   "execution_count": 10,
   "source": [
    "# setting the random seed will allow us to control randomness and give us reproducibily\r\n",
    "torch.manual_seed(0)"
   ],
   "outputs": [
    {
     "output_type": "execute_result",
     "data": {
      "text/plain": [
       "<torch._C.Generator at 0x1d6e7499510>"
      ]
     },
     "metadata": {},
     "execution_count": 10
    }
   ],
   "metadata": {}
  },
  {
   "cell_type": "markdown",
   "source": [
    "Load Data\r\n",
    "The Dataset class represents a dataset. Your custom dataset should inherit Dataset which we imported above and override the following methods:\r\n",
    "\r\n",
    "__len__ so that len(dataset) returns the size of the dataset.\r\n",
    "\r\n",
    "__getitem__ to support the indexing such that dataset[i] can be used to get ith sample\r\n",
    "\r\n",
    "Below we will create a sample dataset"
   ],
   "metadata": {}
  },
  {
   "cell_type": "code",
   "execution_count": 23,
   "source": [
    "# Create the custom Data class which inherits Dataset\r\n",
    "class Data(Dataset):\r\n",
    "    \r\n",
    "    # Constructor\r\n",
    "    def __init__(self):\r\n",
    "        # Create X values from -1 to 1 with step .1\r\n",
    "        self.x = torch.arange(-1, 1, 0.1).view(-1, 1)\r\n",
    "        # Create Y values all set to 0\r\n",
    "        self.y = torch.zeros(self.x.shape[0], 1)\r\n",
    "        # Set the X values above 0.2 to 1\r\n",
    "        self.y[self.x[:, 0] > 0.2] = 1\r\n",
    "        # Set the .len attribute because we need to override the __len__ method\r\n",
    "        self.len = self.x.shape[0]\r\n",
    "    \r\n",
    "    # Getter that returns the data at the given index\r\n",
    "    def __getitem__(self, index):      \r\n",
    "        return self.x[index], self.y[index]\r\n",
    "    \r\n",
    "    # Get length of the dataset\r\n",
    "    def __len__(self):\r\n",
    "        return self.len"
   ],
   "outputs": [],
   "metadata": {}
  },
  {
   "cell_type": "code",
   "execution_count": 24,
   "source": [
    "# make data object\r\n",
    "data_set=Data()"
   ],
   "outputs": [],
   "metadata": {}
  },
  {
   "cell_type": "code",
   "execution_count": 16,
   "source": [
    "data_set.x"
   ],
   "outputs": [
    {
     "output_type": "execute_result",
     "data": {
      "text/plain": [
       "tensor([[-1.0000e+00],\n",
       "        [-9.0000e-01],\n",
       "        [-8.0000e-01],\n",
       "        [-7.0000e-01],\n",
       "        [-6.0000e-01],\n",
       "        [-5.0000e-01],\n",
       "        [-4.0000e-01],\n",
       "        [-3.0000e-01],\n",
       "        [-2.0000e-01],\n",
       "        [-1.0000e-01],\n",
       "        [-2.9802e-09],\n",
       "        [ 1.0000e-01],\n",
       "        [ 2.0000e-01],\n",
       "        [ 3.0000e-01],\n",
       "        [ 4.0000e-01],\n",
       "        [ 5.0000e-01],\n",
       "        [ 6.0000e-01],\n",
       "        [ 7.0000e-01],\n",
       "        [ 8.0000e-01],\n",
       "        [ 9.0000e-01]])"
      ]
     },
     "metadata": {},
     "execution_count": 16
    }
   ],
   "metadata": {}
  },
  {
   "cell_type": "code",
   "execution_count": 17,
   "source": [
    "data_set.y"
   ],
   "outputs": [
    {
     "output_type": "execute_result",
     "data": {
      "text/plain": [
       "tensor([[0.],\n",
       "        [0.],\n",
       "        [0.],\n",
       "        [0.],\n",
       "        [0.],\n",
       "        [0.],\n",
       "        [0.],\n",
       "        [0.],\n",
       "        [0.],\n",
       "        [0.],\n",
       "        [0.],\n",
       "        [0.],\n",
       "        [0.],\n",
       "        [1.],\n",
       "        [1.],\n",
       "        [1.],\n",
       "        [1.],\n",
       "        [1.],\n",
       "        [1.],\n",
       "        [1.]])"
      ]
     },
     "metadata": {},
     "execution_count": 17
    }
   ],
   "metadata": {}
  },
  {
   "cell_type": "code",
   "execution_count": 19,
   "source": [
    "len(data_set)"
   ],
   "outputs": [
    {
     "output_type": "execute_result",
     "data": {
      "text/plain": [
       "20"
      ]
     },
     "metadata": {},
     "execution_count": 19
    }
   ],
   "metadata": {}
  },
  {
   "cell_type": "code",
   "execution_count": 25,
   "source": [
    "x,y = data_set[0]\r\n",
    "print(\"x = {},  y = {}\".format(x,y))"
   ],
   "outputs": [
    {
     "output_type": "stream",
     "name": "stdout",
     "text": [
      "x = tensor([-1.]),  y = tensor([0.])\n"
     ]
    }
   ],
   "metadata": {}
  },
  {
   "cell_type": "code",
   "execution_count": 26,
   "source": [
    "x,y = data_set[1]\r\n",
    "print(\"x = {},  y = {}\".format(x,y))"
   ],
   "outputs": [
    {
     "output_type": "stream",
     "name": "stdout",
     "text": [
      "x = tensor([-0.9000]),  y = tensor([0.])\n"
     ]
    }
   ],
   "metadata": {}
  },
  {
   "cell_type": "code",
   "execution_count": null,
   "source": [],
   "outputs": [],
   "metadata": {}
  }
 ],
 "metadata": {
  "orig_nbformat": 4,
  "language_info": {
   "name": "python",
   "version": "3.8.6",
   "mimetype": "text/x-python",
   "codemirror_mode": {
    "name": "ipython",
    "version": 3
   },
   "pygments_lexer": "ipython3",
   "nbconvert_exporter": "python",
   "file_extension": ".py"
  },
  "kernelspec": {
   "name": "python3",
   "display_name": "Python 3.8.6 64-bit"
  },
  "interpreter": {
   "hash": "0e091db8d58018cc79bd95d4c344ae6fb50dc1dda4747c0206fad4c7e07cd6fa"
  }
 },
 "nbformat": 4,
 "nbformat_minor": 2
}