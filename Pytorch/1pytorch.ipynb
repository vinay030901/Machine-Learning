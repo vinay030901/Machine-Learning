{
 "cells": [
  {
   "cell_type": "code",
   "execution_count": 1,
   "metadata": {},
   "outputs": [],
   "source": [
    "import torch"
   ]
  },
  {
   "cell_type": "code",
   "execution_count": 6,
   "metadata": {},
   "outputs": [
    {
     "name": "stdout",
     "output_type": "stream",
     "text": [
      "tensor([1.4013e-45])\n"
     ]
    }
   ],
   "source": [
    "# scalar value\n",
    "x=torch.empty(1)\n",
    "print(x)"
   ]
  },
  {
   "cell_type": "code",
   "execution_count": 7,
   "metadata": {},
   "outputs": [
    {
     "name": "stdout",
     "output_type": "stream",
     "text": [
      "tensor([-2.2431e+24,  7.8333e-43,  5.7397e-42])\n"
     ]
    }
   ],
   "source": [
    "# print a 1D vector\n",
    "x=torch.empty(3)\n",
    "print(x)"
   ]
  },
  {
   "cell_type": "code",
   "execution_count": 8,
   "metadata": {},
   "outputs": [
    {
     "name": "stdout",
     "output_type": "stream",
     "text": [
      "tensor([[0.0000e+00, 0.0000e+00, 1.8754e+28],\n",
      "        [6.3455e-10, 3.3614e+21, 1.0084e-11]])\n"
     ]
    }
   ],
   "source": [
    "# create a matix\n",
    "x=torch.empty(2,3)\n",
    "print(x)"
   ]
  },
  {
   "cell_type": "code",
   "execution_count": 9,
   "metadata": {},
   "outputs": [
    {
     "name": "stdout",
     "output_type": "stream",
     "text": [
      "tensor([[[9.2755e-39, 1.0561e-38, 5.9694e-39, 6.3367e-39, 8.4490e-39],\n",
      "         [1.0286e-38, 6.2450e-39, 1.0653e-38, 8.4490e-39, 1.0194e-38],\n",
      "         [8.9082e-39, 8.4490e-39, 1.0469e-38, 9.4592e-39, 8.9082e-39]],\n",
      "\n",
      "        [[1.0561e-38, 7.3470e-39, 1.0653e-38, 1.0194e-38, 8.4490e-39],\n",
      "         [1.1112e-38, 9.5511e-39, 1.0102e-38, 5.1429e-39, 6.9796e-39],\n",
      "         [9.0000e-39, 1.0561e-38, 1.0653e-38, 4.1327e-39, 8.9082e-39]]])\n"
     ]
    }
   ],
   "source": [
    "# create a 3d\n",
    "x=torch.empty(2,3,5)\n",
    "print(x)"
   ]
  },
  {
   "cell_type": "code",
   "execution_count": 10,
   "metadata": {},
   "outputs": [
    {
     "name": "stdout",
     "output_type": "stream",
     "text": [
      "tensor([[[[-9.2898e+37,  7.8333e-43, -9.2899e+37,  7.8333e-43, -9.2900e+37,\n",
      "            7.8333e-43, -9.2901e+37],\n",
      "          [ 7.8333e-43, -9.2902e+37,  7.8333e-43, -9.2902e+37,  7.8333e-43,\n",
      "           -9.2903e+37,  7.8333e-43],\n",
      "          [-9.2904e+37,  7.8333e-43, -9.2905e+37,  7.8333e-43, -9.2906e+37,\n",
      "            7.8333e-43, -9.2906e+37],\n",
      "          [ 7.8333e-43, -9.2907e+37,  7.8333e-43, -9.2908e+37,  7.8333e-43,\n",
      "           -9.2909e+37,  7.8333e-43],\n",
      "          [-9.2910e+37,  7.8333e-43, -9.2910e+37,  7.8333e-43, -9.2911e+37,\n",
      "            7.8333e-43, -9.2912e+37]],\n",
      "\n",
      "         [[ 7.8333e-43, -9.2913e+37,  7.8333e-43, -9.2914e+37,  7.8333e-43,\n",
      "           -9.2915e+37,  7.8333e-43],\n",
      "          [-9.2915e+37,  7.8333e-43, -9.2916e+37,  7.8333e-43, -9.2917e+37,\n",
      "            7.8333e-43, -9.2918e+37],\n",
      "          [ 7.8333e-43, -9.2919e+37,  7.8333e-43, -9.2919e+37,  7.8333e-43,\n",
      "           -9.2920e+37,  7.8333e-43],\n",
      "          [-9.3171e+37,  7.8333e-43, -9.3172e+37,  7.8333e-43, -9.3173e+37,\n",
      "            7.8333e-43, -9.3174e+37],\n",
      "          [ 7.8333e-43, -9.3174e+37,  7.8333e-43, -9.3175e+37,  7.8333e-43,\n",
      "           -9.3176e+37,  7.8333e-43]],\n",
      "\n",
      "         [[-9.3177e+37,  7.8333e-43, -9.3178e+37,  7.8333e-43, -9.3179e+37,\n",
      "            7.8333e-43, -9.3179e+37],\n",
      "          [ 7.8333e-43, -9.3180e+37,  7.8333e-43, -9.3181e+37,  7.8333e-43,\n",
      "           -9.3182e+37,  7.8333e-43],\n",
      "          [-9.3183e+37,  7.8333e-43, -9.3183e+37,  7.8333e-43, -9.3184e+37,\n",
      "            7.8333e-43, -9.3185e+37],\n",
      "          [ 7.8333e-43, -9.3186e+37,  7.8333e-43, -9.3187e+37,  7.8333e-43,\n",
      "           -9.3187e+37,  7.8333e-43],\n",
      "          [-9.3188e+37,  7.8333e-43, -9.3189e+37,  7.8333e-43, -9.3190e+37,\n",
      "            7.8333e-43, -9.3191e+37]]],\n",
      "\n",
      "\n",
      "        [[[ 7.8333e-43, -9.3192e+37,  7.8333e-43, -9.3192e+37,  7.8333e-43,\n",
      "           -9.3193e+37,  7.8333e-43],\n",
      "          [-9.3194e+37,  7.8333e-43, -9.3195e+37,  7.8333e-43, -9.3196e+37,\n",
      "            7.8333e-43, -9.3196e+37],\n",
      "          [ 7.8333e-43, -9.3197e+37,  7.8333e-43, -9.3198e+37,  7.8333e-43,\n",
      "           -9.3199e+37,  7.8333e-43],\n",
      "          [-9.3200e+37,  7.8333e-43, -9.3200e+37,  7.8333e-43, -9.3201e+37,\n",
      "            7.8333e-43, -9.3202e+37],\n",
      "          [ 7.8333e-43, -9.3203e+37,  7.8333e-43, -9.3204e+37,  7.8333e-43,\n",
      "           -9.3204e+37,  7.8333e-43]],\n",
      "\n",
      "         [[-9.3205e+37,  7.8333e-43, -9.3206e+37,  7.8333e-43, -9.3207e+37,\n",
      "            7.8333e-43, -9.3208e+37],\n",
      "          [ 7.8333e-43, -9.3209e+37,  7.8333e-43, -9.3209e+37,  7.8333e-43,\n",
      "           -9.3210e+37,  7.8333e-43],\n",
      "          [-9.3211e+37,  7.8333e-43, -9.3794e+37,  7.8333e-43, -9.3795e+37,\n",
      "            7.8333e-43, -9.3796e+37],\n",
      "          [ 7.8333e-43, -9.3797e+37,  7.8333e-43, -9.3798e+37,  7.8333e-43,\n",
      "           -9.3798e+37,  7.8333e-43],\n",
      "          [-9.3799e+37,  7.8333e-43, -9.3800e+37,  7.8333e-43, -9.3801e+37,\n",
      "            7.8333e-43, -9.3802e+37]],\n",
      "\n",
      "         [[ 7.8333e-43, -9.3802e+37,  7.8333e-43, -9.3803e+37,  7.8333e-43,\n",
      "           -9.3804e+37,  7.8333e-43],\n",
      "          [-9.3805e+37,  7.8333e-43, -9.3806e+37,  7.8333e-43, -9.3806e+37,\n",
      "            7.8333e-43, -9.3807e+37],\n",
      "          [ 7.8333e-43, -9.3808e+37,  7.8333e-43, -9.3809e+37,  7.8333e-43,\n",
      "           -9.3810e+37,  7.8333e-43],\n",
      "          [-9.3811e+37,  7.8333e-43, -9.3811e+37,  7.8333e-43, -9.3812e+37,\n",
      "            7.8333e-43, -9.3813e+37],\n",
      "          [ 7.8333e-43, -9.3814e+37,  7.8333e-43, -9.3815e+37,  7.8333e-43,\n",
      "           -9.3815e+37,  7.8333e-43]]]])\n"
     ]
    }
   ],
   "source": [
    "# create a 4d\n",
    "x=torch.empty(2,3,5,7)\n",
    "print(x)"
   ]
  },
  {
   "cell_type": "code",
   "execution_count": 11,
   "metadata": {},
   "outputs": [
    {
     "name": "stdout",
     "output_type": "stream",
     "text": [
      "tensor([[0.7357, 0.7651, 0.5839, 0.3400, 0.3871],\n",
      "        [0.5449, 0.9604, 0.5626, 0.2951, 0.6827]])\n"
     ]
    }
   ],
   "source": [
    "# get random values\n",
    "# create a 2d\n",
    "x=torch.rand(2,5)\n",
    "print(x)"
   ]
  },
  {
   "cell_type": "code",
   "execution_count": 12,
   "metadata": {},
   "outputs": [
    {
     "data": {
      "text/plain": [
       "tensor([[0., 0., 0., 0., 0.],\n",
       "        [0., 0., 0., 0., 0.],\n",
       "        [0., 0., 0., 0., 0.],\n",
       "        [0., 0., 0., 0., 0.]])"
      ]
     },
     "execution_count": 12,
     "metadata": {},
     "output_type": "execute_result"
    }
   ],
   "source": [
    "# make a matrix with zeros in it\n",
    "x=torch.zeros(4,5)\n",
    "x"
   ]
  },
  {
   "cell_type": "code",
   "execution_count": 13,
   "metadata": {},
   "outputs": [
    {
     "data": {
      "text/plain": [
       "tensor([[1., 1., 1.],\n",
       "        [1., 1., 1.]])"
      ]
     },
     "execution_count": 13,
     "metadata": {},
     "output_type": "execute_result"
    }
   ],
   "source": [
    "# get ones in all the items\n",
    "x=torch.ones(2,3)\n",
    "x"
   ]
  },
  {
   "cell_type": "code",
   "execution_count": 14,
   "metadata": {},
   "outputs": [
    {
     "data": {
      "text/plain": [
       "torch.float32"
      ]
     },
     "execution_count": 14,
     "metadata": {},
     "output_type": "execute_result"
    }
   ],
   "source": [
    "# check the datatype\n",
    "x.dtype"
   ]
  },
  {
   "cell_type": "code",
   "execution_count": 17,
   "metadata": {},
   "outputs": [
    {
     "data": {
      "text/plain": [
       "tensor([[ 942891876,  876110180,  892876594],\n",
       "        [1633957433, 1701078069,  842216033]], dtype=torch.int32)"
      ]
     },
     "execution_count": 17,
     "metadata": {},
     "output_type": "execute_result"
    }
   ],
   "source": [
    "# we can also the datatype while declaring\n",
    "x=torch.empty(2,3,dtype=torch.int)\n",
    "x\n",
    "# we can have int,double or float with size 15,32"
   ]
  },
  {
   "cell_type": "code",
   "execution_count": 18,
   "metadata": {},
   "outputs": [
    {
     "data": {
      "text/plain": [
       "torch.Size([2, 3])"
      ]
     },
     "execution_count": 18,
     "metadata": {},
     "output_type": "execute_result"
    }
   ],
   "source": [
    "# print the size\n",
    "x.size()"
   ]
  },
  {
   "cell_type": "code",
   "execution_count": 19,
   "metadata": {},
   "outputs": [
    {
     "data": {
      "text/plain": [
       "tensor([4, 5, 3, 2])"
      ]
     },
     "execution_count": 19,
     "metadata": {},
     "output_type": "execute_result"
    }
   ],
   "source": [
    "# we can also contruct a tensor from data, like from a list\n",
    "x=torch.tensor([4,5,3,2])\n",
    "x"
   ]
  },
  {
   "cell_type": "markdown",
   "metadata": {},
   "source": [
    "let's talk about some basic operations we can do "
   ]
  },
  {
   "cell_type": "code",
   "execution_count": 20,
   "metadata": {},
   "outputs": [
    {
     "name": "stdout",
     "output_type": "stream",
     "text": [
      "tensor([[0.8790, 0.6180],\n",
      "        [0.2469, 0.3499]])\n",
      "tensor([[0.3938, 0.6797],\n",
      "        [0.1928, 0.1834]])\n",
      "tensor([[1.2728, 1.2977],\n",
      "        [0.4397, 0.5333]])\n"
     ]
    }
   ],
   "source": [
    "x=torch.rand(2,2)\n",
    "y=torch.rand(2,2)\n",
    "print(x)\n",
    "print(y)\n",
    "# z=x+y element wise addition\n",
    "z=torch.add(x,y)\n",
    "print(z)"
   ]
  },
  {
   "cell_type": "code",
   "execution_count": 23,
   "metadata": {},
   "outputs": [
    {
     "name": "stdout",
     "output_type": "stream",
     "text": [
      "y earlier:  tensor([[2.1519, 1.9157],\n",
      "        [0.6866, 0.8832]])\n",
      "y now: \n",
      "tensor([[3.0309, 2.5336],\n",
      "        [0.9334, 1.2330]])\n"
     ]
    }
   ],
   "source": [
    "# we can also do an inplace addition, for example\n",
    "print(\"y earlier: \",y)\n",
    "y.add_(x)\n",
    "# this will modify the value of y\n",
    "print(\"y now: \")\n",
    "print(y)\n",
    "# every function that has an underscore will do an inplace operation"
   ]
  },
  {
   "cell_type": "code",
   "execution_count": 25,
   "metadata": {},
   "outputs": [
    {
     "name": "stdout",
     "output_type": "stream",
     "text": [
      "tensor([[2.6642, 1.5657],\n",
      "        [0.2304, 0.4314]]) \n",
      " tensor([[0.2900, 0.2439],\n",
      "        [0.2645, 0.2837]]) \n",
      " tensor([[-2.1519, -1.9157],\n",
      "        [-0.6866, -0.8832]])\n"
     ]
    }
   ],
   "source": [
    "z=x*y\n",
    "p=x/y\n",
    "q=x-y\n",
    "print(z,\"\\n\",p,\"\\n\",q)"
   ]
  },
  {
   "cell_type": "code",
   "execution_count": 28,
   "metadata": {},
   "outputs": [
    {
     "name": "stdout",
     "output_type": "stream",
     "text": [
      "tensor([[0.2932, 0.0444, 0.7846],\n",
      "        [0.4551, 0.7858, 0.5063],\n",
      "        [0.1282, 0.9515, 0.7713],\n",
      "        [0.2329, 0.3025, 0.3622],\n",
      "        [0.0241, 0.8713, 0.3532]])\n",
      "tensor([0.4551, 0.7858, 0.5063])\n",
      "tensor([[0.4551, 0.7858, 0.5063],\n",
      "        [0.1282, 0.9515, 0.7713]])\n"
     ]
    }
   ],
   "source": [
    "# we can also do python operation\n",
    "x=torch.rand(5,3)\n",
    "print(x)\n",
    "print(x[1,:]) # row 1 and all columns\n",
    "print(x[1:3,:]) # row 1,2 and all columns"
   ]
  },
  {
   "cell_type": "code",
   "execution_count": 29,
   "metadata": {},
   "outputs": [
    {
     "name": "stdout",
     "output_type": "stream",
     "text": [
      "0.7857858538627625\n"
     ]
    }
   ],
   "source": [
    "print(x[1,1].item())"
   ]
  },
  {
   "cell_type": "code",
   "execution_count": 33,
   "metadata": {},
   "outputs": [
    {
     "name": "stdout",
     "output_type": "stream",
     "text": [
      "tensor([[0.5740, 0.3756, 0.9214, 0.7246],\n",
      "        [0.3339, 0.3778, 0.9971, 0.2892],\n",
      "        [0.1905, 0.4621, 0.4627, 0.1956],\n",
      "        [0.2744, 0.5803, 0.6144, 0.3598]])\n",
      "tensor([0.5740, 0.3756, 0.9214, 0.7246, 0.3339, 0.3778, 0.9971, 0.2892, 0.1905,\n",
      "        0.4621, 0.4627, 0.1956, 0.2744, 0.5803, 0.6144, 0.3598])\n",
      "tensor([[0.5740, 0.3756, 0.9214, 0.7246, 0.3339, 0.3778, 0.9971, 0.2892],\n",
      "        [0.1905, 0.4621, 0.4627, 0.1956, 0.2744, 0.5803, 0.6144, 0.3598]])\n"
     ]
    }
   ],
   "source": [
    "# reshaping our tensor\n",
    "x=torch.rand(4,4)\n",
    "print(x)\n",
    "y=x.view(16) # we can a 1d array, no of elements is same\n",
    "print(y)\n",
    "# so we know only the no of columns, then we can put -1 in place of number of row\n",
    "y=x.view(-1,8)# this will create a 2 dimensional array\n",
    "print(y)"
   ]
  },
  {
   "cell_type": "code",
   "execution_count": 34,
   "metadata": {},
   "outputs": [
    {
     "name": "stdout",
     "output_type": "stream",
     "text": [
      "torch.Size([2, 8])\n"
     ]
    }
   ],
   "source": [
    "print(y.size())"
   ]
  },
  {
   "cell_type": "code",
   "execution_count": 37,
   "metadata": {},
   "outputs": [
    {
     "data": {
      "text/plain": [
       "tensor([1., 1., 1., 1., 1.])"
      ]
     },
     "execution_count": 37,
     "metadata": {},
     "output_type": "execute_result"
    }
   ],
   "source": [
    "# converting from numpy array to torch tensor\n",
    "import numpy as np\n",
    "a=torch.ones(5)\n",
    "a"
   ]
  },
  {
   "cell_type": "code",
   "execution_count": 40,
   "metadata": {},
   "outputs": [
    {
     "name": "stdout",
     "output_type": "stream",
     "text": [
      "[1. 1. 1. 1. 1.]\n",
      "<class 'numpy.ndarray'>\n"
     ]
    }
   ],
   "source": [
    "# now we can convert a to numpy array\n",
    "b=a.numpy()\n",
    "print(b)\n",
    "print(type(b))\n"
   ]
  },
  {
   "cell_type": "code",
   "execution_count": 42,
   "metadata": {},
   "outputs": [
    {
     "name": "stdout",
     "output_type": "stream",
     "text": [
      "tensor([3., 3., 3., 3., 3.])\n",
      "[3. 3. 3. 3. 3.]\n"
     ]
    }
   ],
   "source": [
    "a.add_(1)\n",
    "# if change the value of a now, b value will change too because they are sharing the same memory location\n",
    "print(a)\n",
    "print(b)"
   ]
  },
  {
   "cell_type": "code",
   "execution_count": 43,
   "metadata": {},
   "outputs": [
    {
     "name": "stdout",
     "output_type": "stream",
     "text": [
      "[1. 1. 1. 1. 1.]\n",
      "tensor([1., 1., 1., 1., 1.], dtype=torch.float64)\n"
     ]
    }
   ],
   "source": [
    "# to convert numpy to torch\n",
    "a=np.ones(5)\n",
    "print(a)\n",
    "b=torch.from_numpy(a)\n",
    "print(b)"
   ]
  },
  {
   "cell_type": "code",
   "execution_count": 50,
   "metadata": {},
   "outputs": [
    {
     "name": "stdout",
     "output_type": "stream",
     "text": [
      "no\n"
     ]
    }
   ],
   "source": [
    "if torch.cuda.is_available():\n",
    "    print(\"yes\")\n",
    "else:\n",
    "    print(\"no\")"
   ]
  },
  {
   "cell_type": "code",
   "execution_count": 51,
   "metadata": {},
   "outputs": [
    {
     "data": {
      "text/plain": [
       "tensor([1., 1., 1., 1., 1.], requires_grad=True)"
      ]
     },
     "execution_count": 51,
     "metadata": {},
     "output_type": "execute_result"
    }
   ],
   "source": [
    "x=torch.ones(5,requires_grad=True)\n",
    "x"
   ]
  },
  {
   "cell_type": "code",
   "execution_count": null,
   "metadata": {},
   "outputs": [],
   "source": []
  }
 ],
 "metadata": {
  "interpreter": {
   "hash": "0e091db8d58018cc79bd95d4c344ae6fb50dc1dda4747c0206fad4c7e07cd6fa"
  },
  "kernelspec": {
   "display_name": "Python 3.8.6 64-bit",
   "name": "python3"
  },
  "language_info": {
   "codemirror_mode": {
    "name": "ipython",
    "version": 3
   },
   "file_extension": ".py",
   "mimetype": "text/x-python",
   "name": "python",
   "nbconvert_exporter": "python",
   "pygments_lexer": "ipython3",
   "version": "3.8.6"
  },
  "orig_nbformat": 4
 },
 "nbformat": 4,
 "nbformat_minor": 2
}
