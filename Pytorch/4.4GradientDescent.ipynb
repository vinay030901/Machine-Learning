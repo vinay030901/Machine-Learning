{
 "cells": [
  {
   "cell_type": "code",
   "execution_count": 68,
   "metadata": {},
   "outputs": [
    {
     "data": {
      "text/plain": [
       "'here in this notebook, we will do certain processes: \\nstep 1: \\npredictiion: manually\\ngradient computation: manually\\nloss computation: manually\\nparameter updates:  manually\\n\\nstep 2: \\npredictiion: manually\\ngradient computation: autograd\\nloss computation: manually\\nparameter updates:  manually\\n\\nstep 3: \\npredictiion: manually\\ngradient computation: autograd\\nloss computation: pytorch loss\\nparameter updates:  pytorch optimizer\\n\\nstep 4: \\npredictiion: pytorch model\\ngradient computation: autograd\\nloss computation: pytorch loss\\nparameter updates:  pytorch optimizer\\n'"
      ]
     },
     "execution_count": 68,
     "metadata": {},
     "output_type": "execute_result"
    }
   ],
   "source": [
    "\"\"\"here in this notebook, we will do certain processes: \n",
    "step 1: \n",
    "predictiion: manually\n",
    "gradient computation: manually\n",
    "loss computation: manually\n",
    "parameter updates:  manually\n",
    "\n",
    "step 2: \n",
    "predictiion: manually\n",
    "gradient computation: autograd\n",
    "loss computation: manually\n",
    "parameter updates:  manually\n",
    "\n",
    "step 3: \n",
    "predictiion: manually\n",
    "gradient computation: autograd\n",
    "loss computation: pytorch loss\n",
    "parameter updates:  pytorch optimizer\n",
    "\n",
    "step 4: \n",
    "predictiion: pytorch model\n",
    "gradient computation: autograd\n",
    "loss computation: pytorch loss\n",
    "parameter updates:  pytorch optimizer\n",
    "\"\"\""
   ]
  },
  {
   "cell_type": "code",
   "execution_count": 69,
   "metadata": {},
   "outputs": [],
   "source": [
    "# the typical steps are: \n",
    "# 1) design model (input, output size, forward pass)\n",
    "# 2) construct loss and optimizer\n",
    "# 3) training loop\n",
    "#  - forward pass: compute prediction\n",
    "#  - backward pass: gradients\n",
    "#  - update our weights"
   ]
  },
  {
   "cell_type": "code",
   "execution_count": 70,
   "metadata": {},
   "outputs": [],
   "source": [
    "import torch\n",
    "import torch.nn as nn"
   ]
  },
  {
   "cell_type": "code",
   "execution_count": 71,
   "metadata": {},
   "outputs": [
    {
     "name": "stdout",
     "output_type": "stream",
     "text": [
      "4 1\n"
     ]
    }
   ],
   "source": [
    "# we use a function which is just linear combination of weights for our linear combination\n",
    "# we don't care about the bias here\n",
    "# f = w*x\n",
    "# f=2*x\n",
    "# our x and y need to have a different shape that is 2d matrix, where the number of rows is the number of samples\n",
    "x=torch.tensor([[1],[2],[3],[4]],dtype=torch.float32)\n",
    "y=torch.tensor([[2],[4],[6],[8]],dtype=torch.float32)\n",
    "n_samples,n_features=x.shape\n",
    "print(n_samples,n_features)\n",
    "# the output will be 4,1 that is we have 4 samples and 1 feature for each sample"
   ]
  },
  {
   "cell_type": "code",
   "execution_count": 72,
   "metadata": {},
   "outputs": [],
   "source": [
    "x_test=torch.tensor([5],dtype=torch.float32)"
   ]
  },
  {
   "cell_type": "code",
   "execution_count": 73,
   "metadata": {},
   "outputs": [],
   "source": [
    "# now we will define our model\n",
    "input_size=n_features\n",
    "output_size=n_features\n",
    "model=nn.Linear(input_size, output_size)"
   ]
  },
  {
   "cell_type": "code",
   "execution_count": 74,
   "metadata": {},
   "outputs": [],
   "source": [
    "# initialie the weight\n",
    "w=torch.tensor(0.0,dtype=torch.float32,requires_grad=True)"
   ]
  },
  {
   "cell_type": "code",
   "execution_count": null,
   "metadata": {},
   "outputs": [],
   "source": []
  },
  {
   "cell_type": "code",
   "execution_count": null,
   "metadata": {},
   "outputs": [],
   "source": []
  },
  {
   "cell_type": "code",
   "execution_count": null,
   "metadata": {},
   "outputs": [],
   "source": []
  },
  {
   "cell_type": "code",
   "execution_count": 75,
   "metadata": {},
   "outputs": [
    {
     "name": "stdout",
     "output_type": "stream",
     "text": [
      "prediction before training: f(5) = -1.251\n"
     ]
    }
   ],
   "source": [
    "print(f'prediction before training: f(5) = {model(x_test).item():.3f}')"
   ]
  },
  {
   "cell_type": "code",
   "execution_count": 76,
   "metadata": {},
   "outputs": [],
   "source": [
    "# training\n",
    "learning_rate=0.01\n",
    "n_iters=100"
   ]
  },
  {
   "cell_type": "code",
   "execution_count": 77,
   "metadata": {},
   "outputs": [],
   "source": [
    "loss=nn.MSELoss()\n",
    "# Statistic gradient descent\n",
    "optimizer=torch.optim.SGD(model.parameters(),lr=learning_rate)"
   ]
  },
  {
   "cell_type": "code",
   "execution_count": 78,
   "metadata": {},
   "outputs": [
    {
     "name": "stdout",
     "output_type": "stream",
     "text": [
      "prediction before training: f(5) = -1.251\n",
      "epoch 1: w = 0.269, loss = 41.89115143\n",
      "epoch 11: w = 1.750, loss = 1.08545375\n",
      "epoch 21: w = 1.987, loss = 0.02961839\n",
      "epoch 31: w = 2.025, loss = 0.00221197\n",
      "epoch 41: w = 2.030, loss = 0.00141874\n",
      "epoch 51: w = 2.030, loss = 0.00131896\n",
      "epoch 61: w = 2.029, loss = 0.00124176\n",
      "epoch 71: w = 2.028, loss = 0.00116947\n",
      "epoch 81: w = 2.028, loss = 0.00110139\n",
      "epoch 91: w = 2.027, loss = 0.00103729\n",
      "prediction before training: f(5) = 10.054\n"
     ]
    }
   ],
   "source": [
    "print(f'prediction before training: f(5) = {model(x_test).item():.3f}')\n",
    "# training loops\n",
    "for epoch in range(n_iters):\n",
    "    # prediction = forward pass\n",
    "    y_pred=model(x)\n",
    "\n",
    "    #loss\n",
    "    l=loss(y,y_pred)\n",
    "\n",
    "    # gradients = backward pass\n",
    "    l.backward() # dl/dw\n",
    "\n",
    "    # update weights\n",
    "    optimizer.step()\n",
    "    \n",
    "    # zero gradients\n",
    "    #to make sure our gradients are zero again\n",
    "    optimizer.zero_grad()\n",
    "\n",
    "    if epoch%10==0:\n",
    "        [w,b]=model.parameters()\n",
    "        print(f'epoch {epoch+1}: w = {w[0][0].item():.3f}, loss = {l:.8f}')\n",
    "\n",
    "print(f'prediction before training: f(5) = {model(x_test).item():.3f}')"
   ]
  },
  {
   "cell_type": "code",
   "execution_count": null,
   "metadata": {},
   "outputs": [],
   "source": []
  }
 ],
 "metadata": {
  "interpreter": {
   "hash": "0e091db8d58018cc79bd95d4c344ae6fb50dc1dda4747c0206fad4c7e07cd6fa"
  },
  "kernelspec": {
   "display_name": "Python 3.8.6 64-bit",
   "name": "python3"
  },
  "language_info": {
   "codemirror_mode": {
    "name": "ipython",
    "version": 3
   },
   "file_extension": ".py",
   "mimetype": "text/x-python",
   "name": "python",
   "nbconvert_exporter": "python",
   "pygments_lexer": "ipython3",
   "version": "3.8.6"
  },
  "orig_nbformat": 4
 },
 "nbformat": 4,
 "nbformat_minor": 2
}
