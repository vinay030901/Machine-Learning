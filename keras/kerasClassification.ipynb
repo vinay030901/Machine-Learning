{
 "cells": [
  {
   "cell_type": "code",
   "execution_count": 8,
   "source": [
    "import keras\r\n",
    "\r\n",
    "from keras.models import Sequential\r\n",
    "from keras.layers import Dense\r\n"
   ],
   "outputs": [],
   "metadata": {}
  },
  {
   "cell_type": "code",
   "execution_count": 1,
   "source": [
    "from tensorflow.keras.utils import to_categorical"
   ],
   "outputs": [],
   "metadata": {}
  },
  {
   "cell_type": "code",
   "execution_count": 11,
   "source": [
    "import matplotlib.pyplot as plt"
   ],
   "outputs": [],
   "metadata": {}
  },
  {
   "cell_type": "code",
   "execution_count": 13,
   "source": [
    "from keras.datasets import mnist\r\n",
    "(X_train,y_train),(X_test,y_test) = mnist.load_data()"
   ],
   "outputs": [
    {
     "output_type": "stream",
     "name": "stdout",
     "text": [
      "Downloading data from https://storage.googleapis.com/tensorflow/tf-keras-datasets/mnist.npz\n",
      "11493376/11490434 [==============================] - 240s 21us/step\n",
      "11501568/11490434 [==============================] - 240s 21us/step\n"
     ]
    }
   ],
   "metadata": {}
  },
  {
   "cell_type": "code",
   "execution_count": 15,
   "source": [
    "X_train.shape"
   ],
   "outputs": [
    {
     "output_type": "execute_result",
     "data": {
      "text/plain": [
       "(60000, 28, 28)"
      ]
     },
     "metadata": {},
     "execution_count": 15
    }
   ],
   "metadata": {}
  },
  {
   "cell_type": "code",
   "execution_count": 16,
   "source": [
    "# let's visualise the first image from our dataset\r\n",
    "plt.imshow(X_train[0])"
   ],
   "outputs": [
    {
     "output_type": "execute_result",
     "data": {
      "text/plain": [
       "<matplotlib.image.AxesImage at 0x219baba2850>"
      ]
     },
     "metadata": {},
     "execution_count": 16
    },
    {
     "output_type": "display_data",
     "data": {
      "image/png": "[encoded data removed]",
      "text/plain": [
       "<Figure size 432x288 with 1 Axes>"
      ]
     },
     "metadata": {
      "needs_background": "light"
     }
    }
   ],
   "metadata": {}
  },
  {
   "cell_type": "markdown",
   "source": [
    "with conventional network, we can't feed the image as it is, so we need to flatten the image into a 1 dimensional array of 1*(28*28)=1*784"
   ],
   "metadata": {}
  },
  {
   "cell_type": "code",
   "execution_count": 18,
   "source": [
    "num_pixel=X_train.shape[1]*X_train.shape[2]\r\n",
    "X_train=X_train.reshape(X_train.shape[0],num_pixel).astype('float32')\r\n",
    "X_test=X_test.reshape(X_test.shape[0],num_pixel).astype('float32')"
   ],
   "outputs": [],
   "metadata": {}
  },
  {
   "cell_type": "markdown",
   "source": [
    "since pixel values can range from 0 to 255, let's normalize them"
   ],
   "metadata": {}
  },
  {
   "cell_type": "code",
   "execution_count": 19,
   "source": [
    "x_train=X_train\r\n",
    "x_test=X_test\r\n",
    "x_train=x_train/255\r\n",
    "x_test=x_test/255"
   ],
   "outputs": [],
   "metadata": {}
  },
  {
   "cell_type": "markdown",
   "source": [
    "for classification, we need to divide our target into categories. So, we'll use the to_categorical function"
   ],
   "metadata": {}
  },
  {
   "cell_type": "code",
   "execution_count": 20,
   "source": [
    "y_train=to_categorical(y_train)\r\n",
    "y_test=to_categorical(y_test)\r\n",
    "\r\n",
    "num_classes =y_test.shape[1]\r\n",
    "print(num_classes)"
   ],
   "outputs": [
    {
     "output_type": "stream",
     "name": "stdout",
     "text": [
      "10\n"
     ]
    }
   ],
   "metadata": {}
  },
  {
   "cell_type": "code",
   "execution_count": 22,
   "source": [
    "# create the model\r\n",
    "model = Sequential()\r\n",
    "model.add(Dense(num_pixel,activation='relu',input_shape=(num_pixel,)))\r\n",
    "model.add(Dense(100,activation='relu'))\r\n",
    "model.add(Dense(num_classes,activation='softmax'))\r\n",
    "\r\n",
    "# compile the model\r\n",
    "model.compile(optimizer='adam',loss='mean_squared_error',metrics='accuracy')"
   ],
   "outputs": [],
   "metadata": {}
  },
  {
   "cell_type": "code",
   "execution_count": 23,
   "source": [
    "model.fit(x_train,y_train,validation_data=(x_train,y_train),epochs=10,verbose=2)\r\n",
    "\r\n",
    "scores=model.evaluate(x_test,y_test,verbose=0)"
   ],
   "outputs": [
    {
     "output_type": "stream",
     "name": "stdout",
     "text": [
      "Epoch 1/10\n",
      "1875/1875 - 12s - loss: 0.0095 - accuracy: 0.9376 - val_loss: 0.0052 - val_accuracy: 0.9666\n",
      "Epoch 2/10\n",
      "1875/1875 - 13s - loss: 0.0047 - accuracy: 0.9698 - val_loss: 0.0031 - val_accuracy: 0.9802\n",
      "Epoch 3/10\n",
      "1875/1875 - 14s - loss: 0.0037 - accuracy: 0.9760 - val_loss: 0.0025 - val_accuracy: 0.9847\n",
      "Epoch 4/10\n",
      "1875/1875 - 13s - loss: 0.0030 - accuracy: 0.9812 - val_loss: 0.0024 - val_accuracy: 0.9849\n",
      "Epoch 5/10\n",
      "1875/1875 - 13s - loss: 0.0026 - accuracy: 0.9832 - val_loss: 0.0017 - val_accuracy: 0.9898\n",
      "Epoch 6/10\n",
      "1875/1875 - 13s - loss: 0.0021 - accuracy: 0.9869 - val_loss: 0.0018 - val_accuracy: 0.9890\n",
      "Epoch 7/10\n",
      "1875/1875 - 12s - loss: 0.0021 - accuracy: 0.9869 - val_loss: 0.0013 - val_accuracy: 0.9919\n",
      "Epoch 8/10\n",
      "1875/1875 - 11s - loss: 0.0019 - accuracy: 0.9884 - val_loss: 0.0018 - val_accuracy: 0.9894\n",
      "Epoch 9/10\n",
      "1875/1875 - 11s - loss: 0.0017 - accuracy: 0.9895 - val_loss: 0.0012 - val_accuracy: 0.9932\n",
      "Epoch 10/10\n",
      "1875/1875 - 12s - loss: 0.0018 - accuracy: 0.9891 - val_loss: 0.0013 - val_accuracy: 0.9917\n"
     ]
    }
   ],
   "metadata": {}
  },
  {
   "cell_type": "code",
   "execution_count": 25,
   "source": [
    "print('Accuracy: {}%\\n error:{}'.format(scores[1],1-scores[1]))"
   ],
   "outputs": [
    {
     "output_type": "stream",
     "name": "stdout",
     "text": [
      "Accuracy: 0.980400025844574%\n",
      " error:0.019599974155426025\n"
     ]
    }
   ],
   "metadata": {}
  },
  {
   "cell_type": "code",
   "execution_count": 26,
   "source": [
    "# we can save the model as well as well \r\n",
    "model.save('classification_ model.h5')"
   ],
   "outputs": [],
   "metadata": {}
  },
  {
   "cell_type": "markdown",
   "source": [
    "Since our model contains multidimensional arrays of data, then models are usually saved as .h5 files.\r\n",
    "when you want to use your model again, just go for keras.models and import it"
   ],
   "metadata": {}
  },
  {
   "cell_type": "code",
   "execution_count": 29,
   "source": [
    "from keras.models import load_model"
   ],
   "outputs": [],
   "metadata": {}
  },
  {
   "cell_type": "code",
   "execution_count": 30,
   "source": [
    "trained_model=load_model('classification_ model.h5')"
   ],
   "outputs": [],
   "metadata": {}
  },
  {
   "cell_type": "code",
   "execution_count": null,
   "source": [],
   "outputs": [],
   "metadata": {}
  }
 ],
 "metadata": {
  "orig_nbformat": 4,
  "language_info": {
   "name": "python",
   "version": "3.8.6",
   "mimetype": "text/x-python",
   "codemirror_mode": {
    "name": "ipython",
    "version": 3
   },
   "pygments_lexer": "ipython3",
   "nbconvert_exporter": "python",
   "file_extension": ".py"
  },
  "kernelspec": {
   "name": "python3",
   "display_name": "Python 3.8.6 64-bit"
  },
  "interpreter": {
   "hash": "0e091db8d58018cc79bd95d4c344ae6fb50dc1dda4747c0206fad4c7e07cd6fa"
  }
 },
 "nbformat": 4,
 "nbformat_minor": 2
}